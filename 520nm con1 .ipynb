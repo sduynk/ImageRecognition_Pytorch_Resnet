{
 "cells": [
  {
   "cell_type": "code",
   "execution_count": 1,
   "id": "b9e502ad",
   "metadata": {},
   "outputs": [],
   "source": [
    "import torch\n",
    "from torch import optim, nn\n",
    "import numpy as np\n",
    "from utils.loader import ScatterData, train_test_split_torch,train_test_split_torch_stratify\n",
    "import matplotlib.pyplot as plt\n",
    "from torchvision.transforms import Compose, Resize, InterpolationMode, ToTensor\n",
    "from models.generator import get_model\n",
    "from models.training import train\n",
    "from tqdm.auto import tqdm\n",
    "import os\n",
    "from glob import glob"
   ]
  },
  {
   "cell_type": "code",
   "execution_count": 3,
   "id": "db65b707",
   "metadata": {},
   "outputs": [
    {
     "data": {
      "text/plain": [
       "<matplotlib.image.AxesImage at 0x25b9c3140a0>"
      ]
     },
     "execution_count": 3,
     "metadata": {},
     "output_type": "execute_result"
    },
    {
     "data": {
      "image/png": "[encoded data removed]",
      "text/plain": [
       "<Figure size 640x480 with 1 Axes>"
      ]
     },
     "metadata": {},
     "output_type": "display_data"
    }
   ],
   "source": [
    "dset=ScatterData(path=r'C:\\Users\\sedau\\Desktop\\AIC Group\\Experiments\\DATA\\LASER_SCREEN_IMAGES\\Second Setup\\520nm 1 con',\n",
    "                 transform=Compose([ToTensor(),\n",
    "                                    Resize([64,64],interpolation=InterpolationMode.NEAREST)]),\n",
    "                 verbose=False)\n",
    "\n",
    "train_loader,valid_loader=train_test_split_torch(dset,validation_split=0.2,shuffle_dataset=True,batch_size=5)\n",
    "\n",
    "(x,y)=dset[10]\n",
    "x=x.permute(1,2,0).numpy()\n",
    "x=x*127.5+127.5\n",
    "plt.imshow(x.astype('uint'))"
   ]
  },
  {
   "cell_type": "code",
   "execution_count": 5,
   "id": "8ee9d351",
   "metadata": {},
   "outputs": [
    {
     "name": "stdout",
     "output_type": "stream",
     "text": [
      "total file :  36\n",
      "soluble 47.222% & insoluble 53%\n"
     ]
    }
   ],
   "source": [
    "os.chdir(r'C:\\Users\\sedau\\Desktop\\AIC Group\\Experiments\\DATA\\LASER_SCREEN_IMAGES\\Second Setup\\520nm 1 con')\n",
    "lst=glob('*.jpg')\n",
    "count=0\n",
    "lst_soluble=[]\n",
    "for file in lst:\n",
    "    f=file.split('_')[-2]\n",
    "    if f=='INSOLUBLE' : count+=1\n",
    "    if f=='SOLUBLE' : lst_soluble.append(file)\n",
    "print('total file : ',len(lst))\n",
    "print('soluble {}% & insoluble {}%'.format(round((len(lst)-count)/len(lst)*100,3),round(count/len(lst)*100),3))"
   ]
  },
  {
   "cell_type": "code",
   "execution_count": 6,
   "id": "3b2f74a8",
   "metadata": {},
   "outputs": [],
   "source": [
    "model_resnet=get_model('resnet18',feat=64)"
   ]
  },
  {
   "cell_type": "code",
   "execution_count": 7,
   "id": "3feb4ec8",
   "metadata": {},
   "outputs": [
    {
     "name": "stderr",
     "output_type": "stream",
     "text": [
      " 10%|█         | 1/10 [00:05<00:45,  5.05s/it]"
     ]
    },
    {
     "name": "stdout",
     "output_type": "stream",
     "text": [
      "epoch: 0,train loss: 1.209053186699748, valid loss: 0.016393018420785666, train acc: 0.9655172413793104, valid acc: 1.0\n"
     ]
    },
    {
     "name": "stderr",
     "output_type": "stream",
     "text": [
      "\r",
      " 20%|██        | 2/10 [00:12<00:52,  6.60s/it]"
     ]
    },
    {
     "name": "stdout",
     "output_type": "stream",
     "text": [
      "epoch: 1,train loss: 0.05910799541743472, valid loss: 0.0009206303802784532, train acc: 1.0, valid acc: 1.0\n"
     ]
    },
    {
     "name": "stderr",
     "output_type": "stream",
     "text": [
      "\r",
      " 30%|███       | 3/10 [00:19<00:48,  6.89s/it]"
     ]
    },
    {
     "name": "stdout",
     "output_type": "stream",
     "text": [
      "epoch: 2,train loss: 0.0039739430212648585, valid loss: 0.0003473512115306221, train acc: 1.0, valid acc: 1.0\n"
     ]
    },
    {
     "name": "stderr",
     "output_type": "stream",
     "text": [
      "\r",
      " 40%|████      | 4/10 [00:26<00:39,  6.62s/it]"
     ]
    },
    {
     "name": "stdout",
     "output_type": "stream",
     "text": [
      "epoch: 3,train loss: 0.002737315313424915, valid loss: 0.0001582473996677436, train acc: 1.0, valid acc: 1.0\n"
     ]
    },
    {
     "name": "stderr",
     "output_type": "stream",
     "text": [
      "\r",
      " 50%|█████     | 5/10 [00:33<00:34,  6.88s/it]"
     ]
    },
    {
     "name": "stdout",
     "output_type": "stream",
     "text": [
      "epoch: 4,train loss: 0.00015636196326340723, valid loss: 3.888676474161912e-05, train acc: 1.0, valid acc: 1.0\n"
     ]
    },
    {
     "name": "stderr",
     "output_type": "stream",
     "text": [
      "\r",
      " 60%|██████    | 6/10 [00:39<00:26,  6.74s/it]"
     ]
    },
    {
     "name": "stdout",
     "output_type": "stream",
     "text": [
      "epoch: 5,train loss: 0.00024697184494471003, valid loss: 1.692784917395329e-05, train acc: 1.0, valid acc: 1.0\n"
     ]
    },
    {
     "name": "stderr",
     "output_type": "stream",
     "text": [
      "\r",
      " 70%|███████   | 7/10 [00:46<00:19,  6.66s/it]"
     ]
    },
    {
     "name": "stdout",
     "output_type": "stream",
     "text": [
      "epoch: 6,train loss: 0.000362232741963453, valid loss: 1.4233661659091013e-05, train acc: 1.0, valid acc: 1.0\n"
     ]
    },
    {
     "name": "stderr",
     "output_type": "stream",
     "text": [
      "\r",
      " 80%|████████  | 8/10 [00:53<00:13,  6.73s/it]"
     ]
    },
    {
     "name": "stdout",
     "output_type": "stream",
     "text": [
      "epoch: 7,train loss: 0.00046466891399177257, valid loss: 6.616141952520138e-06, train acc: 1.0, valid acc: 1.0\n"
     ]
    },
    {
     "name": "stderr",
     "output_type": "stream",
     "text": [
      "\r",
      " 90%|█████████ | 9/10 [00:59<00:06,  6.61s/it]"
     ]
    },
    {
     "name": "stdout",
     "output_type": "stream",
     "text": [
      "epoch: 8,train loss: 0.0001232391336998262, valid loss: 7.069132834658376e-06, train acc: 1.0, valid acc: 1.0\n"
     ]
    },
    {
     "name": "stderr",
     "output_type": "stream",
     "text": [
      "100%|██████████| 10/10 [01:06<00:00,  6.68s/it]"
     ]
    },
    {
     "name": "stdout",
     "output_type": "stream",
     "text": [
      "epoch: 9,train loss: 0.0002711583911150228, valid loss: 6.3300312831415795e-06, train acc: 1.0, valid acc: 1.0\n"
     ]
    },
    {
     "name": "stderr",
     "output_type": "stream",
     "text": [
      "\n"
     ]
    }
   ],
   "source": [
    "lr = 1e-3\n",
    "history = train(model=model_resnet,\n",
    "      optimizer=torch.optim.Adam(model_resnet.parameters(), lr=lr),\n",
    "      loss_fn=nn.BCELoss(),\n",
    "      train_loader=train_loader,\n",
    "      valid_loader=valid_loader,\n",
    "      epochs=10,\n",
    "      device='cpu',\n",
    "      verbose=True,\n",
    "      path=r'C:\\Users\\sedau\\Desktop\\AIC Group\\ML\\HSP_ML_seda\\weights',\n",
    "      fname = 'solubility_lr_'+str(lr),\n",
    "      update=1)"
   ]
  },
  {
   "cell_type": "code",
   "execution_count": 8,
   "id": "cf5ad19f",
   "metadata": {},
   "outputs": [
    {
     "data": {
      "text/plain": [
       "[<matplotlib.lines.Line2D at 0x25b9ec30580>]"
      ]
     },
     "execution_count": 8,
     "metadata": {},
     "output_type": "execute_result"
    },
    {
     "data": {
      "image/png": "[encoded data removed]",
      "text/plain": [
       "<Figure size 640x480 with 1 Axes>"
      ]
     },
     "metadata": {},
     "output_type": "display_data"
    }
   ],
   "source": [
    "plt.plot(history.test_acc)"
   ]
  },
  {
   "cell_type": "code",
   "execution_count": 9,
   "id": "f36d2df1",
   "metadata": {},
   "outputs": [
    {
     "data": {
      "text/plain": [
       "[<matplotlib.lines.Line2D at 0x25b9ec4a4f0>]"
      ]
     },
     "execution_count": 9,
     "metadata": {},
     "output_type": "execute_result"
    },
    {
     "data": {
      "image/png": "[encoded data removed]",
      "text/plain": [
       "<Figure size 640x480 with 1 Axes>"
      ]
     },
     "metadata": {},
     "output_type": "display_data"
    }
   ],
   "source": [
    "plt.plot(history.train_acc)"
   ]
  },
  {
   "cell_type": "code",
   "execution_count": null,
   "id": "68b36ac3",
   "metadata": {},
   "outputs": [],
   "source": []
  }
 ],
 "metadata": {
  "kernelspec": {
   "display_name": "Python 3 (ipykernel)",
   "language": "python",
   "name": "python3"
  },
  "language_info": {
   "codemirror_mode": {
    "name": "ipython",
    "version": 3
   },
   "file_extension": ".py",
   "mimetype": "text/x-python",
   "name": "python",
   "nbconvert_exporter": "python",
   "pygments_lexer": "ipython3",
   "version": "3.9.13"
  }
 },
 "nbformat": 4,
 "nbformat_minor": 5
}
