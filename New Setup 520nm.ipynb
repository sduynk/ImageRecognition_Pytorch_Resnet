{
 "cells": [
  {
   "cell_type": "code",
   "execution_count": 26,
   "id": "2c626d49",
   "metadata": {},
   "outputs": [],
   "source": [
    "import torch\n",
    "from torch import optim, nn\n",
    "import numpy as np\n",
    "from utils.loader import ScatterData, train_test_split_torch,train_test_split_torch_stratify\n",
    "import matplotlib.pyplot as plt\n",
    "from torchvision.transforms import Compose, Resize, InterpolationMode, ToTensor\n",
    "from models.generator import get_model\n",
    "from models.training import train\n",
    "from tqdm.auto import tqdm\n",
    "import os\n",
    "from glob import glob"
   ]
  },
  {
   "cell_type": "code",
   "execution_count": 48,
   "id": "28975d1c",
   "metadata": {},
   "outputs": [
    {
     "data": {
      "text/plain": [
       "<matplotlib.image.AxesImage at 0x17f800b2400>"
      ]
     },
     "execution_count": 48,
     "metadata": {},
     "output_type": "execute_result"
    },
    {
     "data": {
      "image/png": "[encoded data removed]",
      "text/plain": [
       "<Figure size 640x480 with 1 Axes>"
      ]
     },
     "metadata": {},
     "output_type": "display_data"
    }
   ],
   "source": [
    "dset=ScatterData(path=r'C:\\Users\\sedau\\Desktop\\AIC Group\\ML\\HSP_ML_seda\\Second Setup\\520nm',\n",
    "                 transform=Compose([ToTensor(),\n",
    "                                    Resize([64,64],interpolation=InterpolationMode.NEAREST)]),\n",
    "                 verbose=False)\n",
    "\n",
    "train_loader,valid_loader=train_test_split_torch(dset,validation_split=0.2,shuffle_dataset=True,batch_size=5)\n",
    "\n",
    "(x,y)=dset[50]\n",
    "x=x.permute(1,2,0).numpy()\n",
    "x=x*127.5+127.5\n",
    "plt.imshow(x.astype('uint'))"
   ]
  },
  {
   "cell_type": "code",
   "execution_count": 49,
   "id": "1b01805c",
   "metadata": {},
   "outputs": [
    {
     "name": "stdout",
     "output_type": "stream",
     "text": [
      "total file :  72\n",
      "soluble 29.167% & insoluble 71%\n"
     ]
    }
   ],
   "source": [
    "os.chdir(r'C:\\Users\\sedau\\Desktop\\AIC Group\\ML\\HSP_ML_seda\\Second Setup\\520nm')\n",
    "lst=glob('*.jpg')\n",
    "count=0\n",
    "lst_soluble=[]\n",
    "for file in lst:\n",
    "    f=file.split('_')[-2]\n",
    "    if f=='INSOLUBLE' : count+=1\n",
    "    if f=='SOLUBLE' : lst_soluble.append(file)\n",
    "print('total file : ',len(lst))\n",
    "print('soluble {}% & insoluble {}%'.format(round((len(lst)-count)/len(lst)*100,3),round(count/len(lst)*100),3))"
   ]
  },
  {
   "cell_type": "code",
   "execution_count": 50,
   "id": "4459b97c",
   "metadata": {},
   "outputs": [],
   "source": [
    "model_resnet=get_model('resnet18',feat=64)"
   ]
  },
  {
   "cell_type": "code",
   "execution_count": 51,
   "id": "4c1ceb00",
   "metadata": {},
   "outputs": [
    {
     "name": "stderr",
     "output_type": "stream",
     "text": [
      " 10%|█         | 1/10 [00:12<01:52, 12.45s/it]"
     ]
    },
    {
     "name": "stdout",
     "output_type": "stream",
     "text": [
      "epoch: 0,train loss: 1.2886079333839007, valid loss: 0.00022855134011479095, train acc: 1.0, valid acc: 1.0\n"
     ]
    },
    {
     "name": "stderr",
     "output_type": "stream",
     "text": [
      "\r",
      " 20%|██        | 2/10 [00:26<01:45, 13.16s/it]"
     ]
    },
    {
     "name": "stdout",
     "output_type": "stream",
     "text": [
      "epoch: 1,train loss: 0.0031313109998336586, valid loss: 2.8622519494092558e-05, train acc: 1.0, valid acc: 1.0\n"
     ]
    },
    {
     "name": "stderr",
     "output_type": "stream",
     "text": [
      "\r",
      " 30%|███       | 3/10 [00:40<01:35, 13.60s/it]"
     ]
    },
    {
     "name": "stdout",
     "output_type": "stream",
     "text": [
      "epoch: 2,train loss: 0.0007704955000917835, valid loss: 3.6060856700714794e-06, train acc: 1.0, valid acc: 1.0\n"
     ]
    },
    {
     "name": "stderr",
     "output_type": "stream",
     "text": [
      "\r",
      " 40%|████      | 4/10 [00:53<01:21, 13.59s/it]"
     ]
    },
    {
     "name": "stdout",
     "output_type": "stream",
     "text": [
      "epoch: 3,train loss: 0.00042055123265072325, valid loss: 2.3126625023905945e-06, train acc: 1.0, valid acc: 1.0\n"
     ]
    },
    {
     "name": "stderr",
     "output_type": "stream",
     "text": [
      "\r",
      " 50%|█████     | 5/10 [01:07<01:07, 13.55s/it]"
     ]
    },
    {
     "name": "stdout",
     "output_type": "stream",
     "text": [
      "epoch: 4,train loss: 0.00016604965162514418, valid loss: 1.436472842897274e-06, train acc: 1.0, valid acc: 1.0\n"
     ]
    },
    {
     "name": "stderr",
     "output_type": "stream",
     "text": [
      "\r",
      " 60%|██████    | 6/10 [01:20<00:53, 13.47s/it]"
     ]
    },
    {
     "name": "stdout",
     "output_type": "stream",
     "text": [
      "epoch: 5,train loss: 0.00018764642672408627, valid loss: 6.616116934310412e-07, train acc: 1.0, valid acc: 1.0\n"
     ]
    },
    {
     "name": "stderr",
     "output_type": "stream",
     "text": [
      "\r",
      " 70%|███████   | 7/10 [01:33<00:40, 13.43s/it]"
     ]
    },
    {
     "name": "stdout",
     "output_type": "stream",
     "text": [
      "epoch: 6,train loss: 9.755742040340465e-05, valid loss: 5.960465472298893e-07, train acc: 1.0, valid acc: 1.0\n"
     ]
    },
    {
     "name": "stderr",
     "output_type": "stream",
     "text": [
      "\r",
      " 80%|████████  | 8/10 [01:47<00:27, 13.62s/it]"
     ]
    },
    {
     "name": "stdout",
     "output_type": "stream",
     "text": [
      "epoch: 7,train loss: 0.0005772182329906173, valid loss: 1.156330711182818e-06, train acc: 1.0, valid acc: 1.0\n"
     ]
    },
    {
     "name": "stderr",
     "output_type": "stream",
     "text": [
      "\r",
      " 90%|█████████ | 9/10 [02:01<00:13, 13.66s/it]"
     ]
    },
    {
     "name": "stdout",
     "output_type": "stream",
     "text": [
      "epoch: 8,train loss: 0.0001475377365238728, valid loss: 8.702281775185838e-07, train acc: 1.0, valid acc: 1.0\n"
     ]
    },
    {
     "name": "stderr",
     "output_type": "stream",
     "text": [
      "100%|██████████| 10/10 [02:15<00:00, 13.53s/it]"
     ]
    },
    {
     "name": "stdout",
     "output_type": "stream",
     "text": [
      "epoch: 9,train loss: 0.00011763395164621215, valid loss: 6.258489939625633e-07, train acc: 1.0, valid acc: 1.0\n"
     ]
    },
    {
     "name": "stderr",
     "output_type": "stream",
     "text": [
      "\n"
     ]
    }
   ],
   "source": [
    "lr = 1e-3\n",
    "history = train(model=model_resnet,\n",
    "      optimizer=torch.optim.Adam(model_resnet.parameters(), lr=lr),\n",
    "      loss_fn=nn.BCELoss(),\n",
    "      train_loader=train_loader,\n",
    "      valid_loader=valid_loader,\n",
    "      epochs=10,\n",
    "      device='cpu',\n",
    "      verbose=True,\n",
    "      path=r'C:\\Users\\sedau\\Desktop\\AIC Group\\ML\\HSP_ML_seda\\weights',\n",
    "      fname = 'solubility_lr_'+str(lr),\n",
    "      update=1)"
   ]
  },
  {
   "cell_type": "code",
   "execution_count": 22,
   "id": "acea2885",
   "metadata": {},
   "outputs": [
    {
     "data": {
      "text/plain": [
       "[<matplotlib.lines.Line2D at 0x17f82b6fdc0>]"
      ]
     },
     "execution_count": 22,
     "metadata": {},
     "output_type": "execute_result"
    },
    {
     "data": {
      "image/png": "[encoded data removed]",
      "text/plain": [
       "<Figure size 640x480 with 1 Axes>"
      ]
     },
     "metadata": {},
     "output_type": "display_data"
    }
   ],
   "source": [
    "plt.plot(history.test_acc)"
   ]
  },
  {
   "cell_type": "code",
   "execution_count": 23,
   "id": "6716c82e",
   "metadata": {
    "scrolled": true
   },
   "outputs": [
    {
     "data": {
      "text/plain": [
       "[<matplotlib.lines.Line2D at 0x17fe96bcd60>]"
      ]
     },
     "execution_count": 23,
     "metadata": {},
     "output_type": "execute_result"
    },
    {
     "data": {
      "image/png": "[encoded data removed]",
      "text/plain": [
       "<Figure size 640x480 with 1 Axes>"
      ]
     },
     "metadata": {},
     "output_type": "display_data"
    }
   ],
   "source": [
    "plt.plot(history.train_acc)"
   ]
  },
  {
   "cell_type": "code",
   "execution_count": null,
   "id": "6a4f3aa4",
   "metadata": {},
   "outputs": [],
   "source": []
  }
 ],
 "metadata": {
  "kernelspec": {
   "display_name": "Python 3 (ipykernel)",
   "language": "python",
   "name": "python3"
  },
  "language_info": {
   "codemirror_mode": {
    "name": "ipython",
    "version": 3
   },
   "file_extension": ".py",
   "mimetype": "text/x-python",
   "name": "python",
   "nbconvert_exporter": "python",
   "pygments_lexer": "ipython3",
   "version": "3.9.13"
  }
 },
 "nbformat": 4,
 "nbformat_minor": 5
}
